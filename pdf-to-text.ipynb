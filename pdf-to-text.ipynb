{
 "cells": [
  {
   "cell_type": "code",
   "execution_count": null,
   "metadata": {},
   "outputs": [],
   "source": []
  },
  {
   "cell_type": "code",
   "execution_count": 9,
   "metadata": {},
   "outputs": [
    {
     "name": "stdout",
     "output_type": "stream",
     "text": [
      "['data/test copy.pdf', 'data/test copy 2.pdf', 'data/test.pdf']\n"
     ]
    }
   ],
   "source": [
    "from unstructured.partition.pdf import partition_pdf\n",
    "from pathlib import Path\n",
    "\n",
    "# Returns a List[Element] present in the pages of the parsed pdf document\n",
    "DATA_FOLDER = \"data\"\n",
    "\n",
    "\n",
    "root_folder = Path()\n",
    "data_folder = root_folder / \"data\"\n",
    "\n",
    "resume_names = []\n",
    "for item in data_folder.glob(\"**/*\"):\n",
    "    if item.is_file():\n",
    "        # Constructing relative path from root folder\n",
    "        rel_path = item.relative_to(root_folder)\n",
    "        resume_names.append(str(rel_path))\n",
    "\n",
    "print(resume_names)"
   ]
  },
  {
   "cell_type": "code",
   "execution_count": null,
   "metadata": {},
   "outputs": [],
   "source": [
    "DEBUG_MODE = False"
   ]
  },
  {
   "cell_type": "code",
   "execution_count": 15,
   "metadata": {},
   "outputs": [],
   "source": [
    "total_file_contents = []\n",
    "for resume_name in resume_names:\n",
    "    elements = partition_pdf(resume_name)\n",
    "    curr_out = []\n",
    "    for item in elements:\n",
    "        # print(item)\n",
    "        # print(type(item))\n",
    "        # print(type(item.text))\n",
    "        curr_out.append(item)\n",
    "        # If you don't want unstructured contents, switch to `item.text` for type 'str'\n",
    "    total_file_contents.append(curr_out)"
   ]
  },
  {
   "cell_type": "code",
   "execution_count": 16,
   "metadata": {},
   "outputs": [
    {
     "data": {
      "text/plain": [
       "3"
      ]
     },
     "execution_count": 16,
     "metadata": {},
     "output_type": "execute_result"
    }
   ],
   "source": [
    "len(total_file_contents)"
   ]
  },
  {
   "cell_type": "code",
   "execution_count": 17,
   "metadata": {},
   "outputs": [
    {
     "data": {
      "text/plain": [
       "40"
      ]
     },
     "execution_count": 17,
     "metadata": {},
     "output_type": "execute_result"
    }
   ],
   "source": [
    "len(total_file_contents[0])"
   ]
  },
  {
   "cell_type": "code",
   "execution_count": null,
   "metadata": {},
   "outputs": [],
   "source": []
  }
 ],
 "metadata": {
  "kernelspec": {
   "display_name": "elk-env",
   "language": "python",
   "name": "python3"
  },
  "language_info": {
   "codemirror_mode": {
    "name": "ipython",
    "version": 3
   },
   "file_extension": ".py",
   "mimetype": "text/x-python",
   "name": "python",
   "nbconvert_exporter": "python",
   "pygments_lexer": "ipython3",
   "version": "3.9.16"
  }
 },
 "nbformat": 4,
 "nbformat_minor": 2
}
