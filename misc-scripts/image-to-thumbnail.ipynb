{
 "cells": [
  {
   "cell_type": "code",
   "execution_count": 3,
   "metadata": {},
   "outputs": [
    {
     "name": "stdout",
     "output_type": "stream",
     "text": [
      "/Users/reaganjlee/personalcodingprojects/Github/mongo-hackathon\n"
     ]
    }
   ],
   "source": [
    "!pwd"
   ]
  },
  {
   "cell_type": "code",
   "execution_count": 5,
   "metadata": {},
   "outputs": [],
   "source": [
    "from PIL import Image\n",
    "\n",
    "\n",
    "def create_thumbnail(input_image_path, output_image_path, size=(128, 128)):\n",
    "    with Image.open(input_image_path) as image:\n",
    "        image.thumbnail(size)\n",
    "        image.save(output_image_path, format=\"PNG\")\n",
    "\n",
    "\n",
    "# Example usage\n",
    "input_image = \"spar-logo.png\"  # Replace with your PNG image path\n",
    "output_image = \"thumbnail.png\"  # Replace with desired thumbnail path\n",
    "\n",
    "create_thumbnail(input_image, output_image)"
   ]
  },
  {
   "cell_type": "code",
   "execution_count": null,
   "metadata": {},
   "outputs": [],
   "source": []
  }
 ],
 "metadata": {
  "kernelspec": {
   "display_name": "elk-env",
   "language": "python",
   "name": "python3"
  },
  "language_info": {
   "codemirror_mode": {
    "name": "ipython",
    "version": 3
   },
   "file_extension": ".py",
   "mimetype": "text/x-python",
   "name": "python",
   "nbconvert_exporter": "python",
   "pygments_lexer": "ipython3",
   "version": "3.9.16"
  }
 },
 "nbformat": 4,
 "nbformat_minor": 2
}
